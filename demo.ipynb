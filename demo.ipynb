{
 "cells": [
  {
   "cell_type": "code",
   "execution_count": 2,
   "id": "color-regular",
   "metadata": {},
   "outputs": [],
   "source": [
    "import dataPro\n",
    "import test\n",
    "import strategy\n",
    "import utils"
   ]
  },
  {
   "cell_type": "code",
   "execution_count": 4,
   "id": "herbal-huntington",
   "metadata": {},
   "outputs": [
    {
     "name": "stdout",
     "output_type": "stream",
     "text": [
      "login success!\n",
      "login respond: lg.error_code=0,lg.error_msg=success\n",
      "          date       code    open    high     low   close preclose    volume  \\\n",
      "0   2022-10-10  sh.600606  2.8100  2.8800  2.8000  2.8000   2.7900  63059505   \n",
      "1   2022-10-11  sh.600606  2.7900  2.8000  2.7300  2.7500   2.8000  46086626   \n",
      "2   2022-10-12  sh.600606  2.7500  2.8000  2.7200  2.8000   2.7500  45772585   \n",
      "3   2022-10-13  sh.600606  2.7900  2.8000  2.7400  2.7800   2.8000  52946699   \n",
      "4   2022-10-14  sh.600606  2.7900  2.8400  2.7800  2.8200   2.7800  59297058   \n",
      "5   2022-10-17  sh.600606  2.8000  2.8600  2.7900  2.8500   2.8200  57460297   \n",
      "6   2022-10-18  sh.600606  2.8500  2.8800  2.8200  2.8400   2.8500  48428453   \n",
      "7   2022-10-19  sh.600606  2.8300  2.8500  2.8000  2.8000   2.8400  33571013   \n",
      "8   2022-10-20  sh.600606  2.7900  2.8200  2.7700  2.7900   2.8000  36254311   \n",
      "9   2022-10-21  sh.600606  2.8100  2.8300  2.7800  2.7900   2.7900  46516110   \n",
      "10  2022-10-24  sh.600606  2.7900  2.7900  2.6700  2.6800   2.7900  77278001   \n",
      "\n",
      "            amount adjustflag      turn tradestatus     pctChg isST  \n",
      "0   178852016.4000          3  0.448700           1   0.358400    0  \n",
      "1   127016211.1500          3  0.327900           1  -1.785700    0  \n",
      "2   126101241.6200          3  0.325700           1   1.818200    0  \n",
      "3   146308450.3500          3  0.376700           1  -0.714300    0  \n",
      "4   167128965.8100          3  0.421900           1   1.438800    0  \n",
      "5   162371443.1200          3  0.408800           1   1.063800    0  \n",
      "6   137908794.3200          3  0.344600           1  -0.350900    0  \n",
      "7    94684198.9700          3  0.238900           1  -1.408500    0  \n",
      "8   101349296.2200          3  0.258000           1  -0.357100    0  \n",
      "9   130714416.3800          3  0.331000           1   0.000000    0  \n",
      "10  210577597.1400          3  0.549900           1  -3.942700    0  \n"
     ]
    }
   ],
   "source": [
    "if __name__ == \"__main__\":\n",
    "    code = \"sh.600606\"\n",
    "    startDate = \"2022-10-01\"    \n",
    "    endDate = \"2022-10-24\"\n",
    "    data = dataPro.downloadData(code,startDate,endDate,\"d\")\n",
    "    print(data)"
   ]
  },
  {
   "cell_type": "code",
   "execution_count": 5,
   "id": "alert-victim",
   "metadata": {},
   "outputs": [
    {
     "data": {
      "text/plain": [
       "<module 'strategy' from 'g:\\\\pydoc\\\\F_code\\\\F_code\\\\strategy.py'>"
      ]
     },
     "execution_count": 5,
     "metadata": {},
     "output_type": "execute_result"
    }
   ],
   "source": [
    "import importlib\n",
    "importlib.reload(strategy)"
   ]
  },
  {
   "cell_type": "code",
   "execution_count": 6,
   "id": "helpful-robert",
   "metadata": {},
   "outputs": [],
   "source": [
    "dataNormal = dataPro.getNormalData(data)"
   ]
  },
  {
   "cell_type": "code",
   "execution_count": 8,
   "id": "turned-cassette",
   "metadata": {},
   "outputs": [
    {
     "ename": "TypeError",
     "evalue": "unsupported operand type(s) for +: 'int' and 'str'",
     "output_type": "error",
     "traceback": [
      "\u001b[1;31m---------------------------------------------------------------------------\u001b[0m",
      "\u001b[1;31mTypeError\u001b[0m                                 Traceback (most recent call last)",
      "\u001b[1;32m~\\AppData\\Local\\Temp/ipykernel_4308/2434584646.py\u001b[0m in \u001b[0;36m<module>\u001b[1;34m\u001b[0m\n\u001b[1;32m----> 1\u001b[1;33m \u001b[0mstrategy\u001b[0m\u001b[1;33m.\u001b[0m\u001b[0mupMA\u001b[0m\u001b[1;33m(\u001b[0m\u001b[0mdataNormal\u001b[0m\u001b[1;33m,\u001b[0m\u001b[1;36m5\u001b[0m\u001b[1;33m)\u001b[0m\u001b[1;33m\u001b[0m\u001b[1;33m\u001b[0m\u001b[0m\n\u001b[0m",
      "\u001b[1;32mg:\\pydoc\\F_code\\F_code\\strategy.py\u001b[0m in \u001b[0;36mupMA\u001b[1;34m(data, days)\u001b[0m\n\u001b[0;32m     56\u001b[0m     \u001b[0mthresh\u001b[0m \u001b[1;33m=\u001b[0m \u001b[1;33m-\u001b[0m\u001b[1;36m0.03\u001b[0m\u001b[1;31m#控制当天下跌\u001b[0m\u001b[1;33m\u001b[0m\u001b[1;33m\u001b[0m\u001b[0m\n\u001b[0;32m     57\u001b[0m     \u001b[0mflagList\u001b[0m \u001b[1;33m=\u001b[0m \u001b[0mnp\u001b[0m\u001b[1;33m.\u001b[0m\u001b[0mzeros\u001b[0m\u001b[1;33m(\u001b[0m\u001b[0mlen\u001b[0m\u001b[1;33m(\u001b[0m\u001b[0mdata\u001b[0m\u001b[1;33m[\u001b[0m\u001b[1;34m'open'\u001b[0m\u001b[1;33m]\u001b[0m\u001b[1;33m)\u001b[0m\u001b[1;33m)\u001b[0m\u001b[1;33m\u001b[0m\u001b[1;33m\u001b[0m\u001b[0m\n\u001b[1;32m---> 58\u001b[1;33m     \u001b[0mma\u001b[0m \u001b[1;33m=\u001b[0m \u001b[0mindicator\u001b[0m\u001b[1;33m.\u001b[0m\u001b[0mMA\u001b[0m\u001b[1;33m(\u001b[0m\u001b[0mdata\u001b[0m\u001b[1;33m,\u001b[0m\u001b[0mdays\u001b[0m\u001b[1;33m)\u001b[0m\u001b[1;33m\u001b[0m\u001b[1;33m\u001b[0m\u001b[0m\n\u001b[0m\u001b[0;32m     59\u001b[0m     \u001b[1;32mfor\u001b[0m \u001b[0mi\u001b[0m \u001b[1;32min\u001b[0m \u001b[0mrange\u001b[0m\u001b[1;33m(\u001b[0m\u001b[1;36m2\u001b[0m\u001b[1;33m,\u001b[0m\u001b[0mlen\u001b[0m\u001b[1;33m(\u001b[0m\u001b[0mflagList\u001b[0m\u001b[1;33m)\u001b[0m\u001b[1;33m)\u001b[0m\u001b[1;33m:\u001b[0m\u001b[1;33m\u001b[0m\u001b[1;33m\u001b[0m\u001b[0m\n\u001b[0;32m     60\u001b[0m         \u001b[1;31m#是否连续两天在ma上\u001b[0m\u001b[1;33m\u001b[0m\u001b[1;33m\u001b[0m\u001b[1;33m\u001b[0m\u001b[0m\n",
      "\u001b[1;32mg:\\pydoc\\F_code\\F_code\\indicator.py\u001b[0m in \u001b[0;36mMA\u001b[1;34m(data, days)\u001b[0m\n\u001b[0;32m      6\u001b[0m     \u001b[0mma\u001b[0m \u001b[1;33m=\u001b[0m \u001b[1;33m[\u001b[0m\u001b[0mx\u001b[0m \u001b[1;32mfor\u001b[0m \u001b[0mx\u001b[0m \u001b[1;32min\u001b[0m \u001b[0mdata\u001b[0m\u001b[1;33m[\u001b[0m\u001b[1;34m\"close\"\u001b[0m\u001b[1;33m]\u001b[0m\u001b[1;33m[\u001b[0m\u001b[1;33m:\u001b[0m\u001b[0mdays\u001b[0m\u001b[1;33m]\u001b[0m\u001b[1;33m]\u001b[0m\u001b[1;33m\u001b[0m\u001b[1;33m\u001b[0m\u001b[0m\n\u001b[0;32m      7\u001b[0m     \u001b[1;32mfor\u001b[0m \u001b[0mi\u001b[0m \u001b[1;32min\u001b[0m \u001b[0mrange\u001b[0m\u001b[1;33m(\u001b[0m\u001b[0mdays\u001b[0m\u001b[1;33m,\u001b[0m\u001b[0mlen\u001b[0m\u001b[1;33m(\u001b[0m\u001b[0mdata\u001b[0m\u001b[1;33m[\u001b[0m\u001b[1;34m\"close\"\u001b[0m\u001b[1;33m]\u001b[0m\u001b[1;33m)\u001b[0m\u001b[1;33m)\u001b[0m\u001b[1;33m:\u001b[0m\u001b[1;33m\u001b[0m\u001b[1;33m\u001b[0m\u001b[0m\n\u001b[1;32m----> 8\u001b[1;33m         \u001b[0mma\u001b[0m\u001b[1;33m.\u001b[0m\u001b[0mappend\u001b[0m\u001b[1;33m(\u001b[0m\u001b[0msum\u001b[0m\u001b[1;33m(\u001b[0m\u001b[0mdata\u001b[0m\u001b[1;33m[\u001b[0m\u001b[1;34m\"close\"\u001b[0m\u001b[1;33m]\u001b[0m\u001b[1;33m[\u001b[0m\u001b[0mi\u001b[0m\u001b[1;33m-\u001b[0m\u001b[0mdays\u001b[0m\u001b[1;33m:\u001b[0m\u001b[0mi\u001b[0m\u001b[1;33m]\u001b[0m\u001b[1;33m)\u001b[0m\u001b[1;33m/\u001b[0m\u001b[0mdays\u001b[0m\u001b[1;33m)\u001b[0m\u001b[1;33m\u001b[0m\u001b[1;33m\u001b[0m\u001b[0m\n\u001b[0m\u001b[0;32m      9\u001b[0m     \u001b[1;32mreturn\u001b[0m \u001b[0mma\u001b[0m\u001b[1;33m\u001b[0m\u001b[1;33m\u001b[0m\u001b[0m\n\u001b[0;32m     10\u001b[0m \u001b[1;33m\u001b[0m\u001b[0m\n",
      "\u001b[1;31mTypeError\u001b[0m: unsupported operand type(s) for +: 'int' and 'str'"
     ]
    }
   ],
   "source": [
    "strategy.upMA(dataNormal,5)"
   ]
  },
  {
   "cell_type": "code",
   "execution_count": null,
   "id": "lesser-spectacular",
   "metadata": {},
   "outputs": [],
   "source": []
  }
 ],
 "metadata": {
  "kernelspec": {
   "display_name": "Python 3.7.11 ('py3')",
   "language": "python",
   "name": "python3"
  },
  "language_info": {
   "codemirror_mode": {
    "name": "ipython",
    "version": 3
   },
   "file_extension": ".py",
   "mimetype": "text/x-python",
   "name": "python",
   "nbconvert_exporter": "python",
   "pygments_lexer": "ipython3",
   "version": "3.7.11"
  },
  "vscode": {
   "interpreter": {
    "hash": "da11aae578c95113aa38c35620532ae4a017a989022d373e750cb67547a86c53"
   }
  }
 },
 "nbformat": 4,
 "nbformat_minor": 5
}
